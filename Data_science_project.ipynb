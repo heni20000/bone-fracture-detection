{
  "nbformat": 4,
  "nbformat_minor": 0,
  "metadata": {
    "colab": {
      "provenance": [],
      "gpuType": "T4"
    },
    "kernelspec": {
      "name": "python3",
      "display_name": "Python 3"
    },
    "language_info": {
      "name": "python"
    },
    "accelerator": "GPU"
  },
  "cells": [
    {
      "cell_type": "code",
      "execution_count": null,
      "metadata": {
        "id": "Bp5V-pQVRduP"
      },
      "outputs": [],
      "source": [
        "import os\n",
        "import pandas as pd\n",
        "import matplotlib.pyplot as plt\n",
        "import tensorflow as tf\n",
        "from tensorflow import keras\n",
        "import numpy as np\n",
        "from tensorflow.keras import layers\n",
        "import tensorflow.keras.backend as K\n",
        "import os, pathlib\n",
        "import sklearn, PIL\n",
        "# 🔄 Cleanup cell — run this BEFORE rebuilding pipelines/model\n",
        "import gc, tensorflow as tf\n"
      ]
    },
    {
      "cell_type": "code",
      "source": [
        "#!pip install -U \"tensorflow==2.19.*\" \"numpy>=2.1,<2.3\" \"ml-dtypes>=0.5.0\" \\\n",
        "#  \"protobuf>=5.26.1,<6.0\" scikit-learn matplotlib pillow\n"
      ],
      "metadata": {
        "collapsed": true,
        "id": "iluXJLskMW6u"
      },
      "execution_count": null,
      "outputs": []
    },
    {
      "cell_type": "code",
      "source": [
        "#!pip uninstall -y tf-keras keras tensorflow-text tensorflow-decision-forests ydf \\\n",
        "#  opencv-python opencv-python-headless opencv-contrib-python jax jaxlib\n"
      ],
      "metadata": {
        "collapsed": true,
        "id": "lxdhnwLgMJMp"
      },
      "execution_count": null,
      "outputs": []
    },
    {
      "cell_type": "code",
      "source": [
        "from google.colab import drive\n",
        "drive.mount('/content/drive')"
      ],
      "metadata": {
        "id": "Om0aZ8aURoqB",
        "colab": {
          "base_uri": "https://localhost:8080/"
        },
        "outputId": "4a31b01c-a8a3-4365-d8b5-3040120227ab"
      },
      "execution_count": null,
      "outputs": [
        {
          "output_type": "stream",
          "name": "stdout",
          "text": [
            "Drive already mounted at /content/drive; to attempt to forcibly remount, call drive.mount(\"/content/drive\", force_remount=True).\n"
          ]
        }
      ]
    },
    {
      "cell_type": "code",
      "source": [
        "#check\n",
        "from PIL import Image\n",
        "sizes = {}\n",
        "modes  = {}\n",
        "\n",
        "p = \"/content/drive/MyDrive/Hens data science project/Bone_Fracture_Binary_Classification/train/fractured/00004541.png\"\n",
        "\n",
        "with Image.open(p) as im:\n",
        "  sizes[im.size] = sizes.get(im.size, 0) + 1   # im.size = (width, height)\n",
        "  modes[im.mode] = modes.get(im.mode, 0) + 1   # e.g., 'RGB', 'L' (grayscale), 'P' (GIF palette), 'RGBA'\n",
        "\n",
        "print(sizes)\n",
        "print(modes)"
      ],
      "metadata": {
        "colab": {
          "base_uri": "https://localhost:8080/"
        },
        "id": "b9B7eYU3ZkzY",
        "outputId": "797cac44-1c39-464a-b215-6654992dc5f4"
      },
      "execution_count": null,
      "outputs": [
        {
          "output_type": "stream",
          "name": "stdout",
          "text": [
            "{(1517, 2021): 1}\n",
            "{'L': 1}\n"
          ]
        }
      ]
    },
    {
      "cell_type": "code",
      "source": [
        "# ---- CONFIG ----\n",
        "\n",
        "DATASET_DIR = \"/content/drive/MyDrive/Hens data science project/Bone_Fracture_Binary_Classification\"\n",
        "IMG_SIZE = (512, 512)\n",
        "BATCH_SIZE = 4\n",
        "\n"
      ],
      "metadata": {
        "id": "6CkzcjtLJyJd"
      },
      "execution_count": null,
      "outputs": []
    },
    {
      "cell_type": "code",
      "source": [
        "tf.keras.backend.clear_session()  # frees TF/graph/GPU state\n",
        "gc.collect()                      # asks Python to free RAM"
      ],
      "metadata": {
        "colab": {
          "base_uri": "https://localhost:8080/"
        },
        "id": "RU30VZTBoKH2",
        "outputId": "bee80603-20d6-416b-de45-41c989bbf87d"
      },
      "execution_count": null,
      "outputs": [
        {
          "output_type": "execute_result",
          "data": {
            "text/plain": [
              "0"
            ]
          },
          "metadata": {},
          "execution_count": 11
        }
      ]
    },
    {
      "cell_type": "code",
      "source": [
        "# ---- BUILD DATAFRAME ----\n",
        "rows = []\n",
        "\n",
        "for category in [\"train\", \"val\", \"test\"]:\n",
        "    category_path = os.path.join(DATASET_DIR, category)\n",
        "    if not os.path.exists(category_path):\n",
        "        continue\n",
        "\n",
        "    # Go over label folders (fractured / not fractured)\n",
        "    for label in os.listdir(category_path):\n",
        "        label_path = os.path.join(category_path, label)\n",
        "        if not os.path.isdir(label_path):\n",
        "            continue\n",
        "\n",
        "        # Count how many images are in this label\n",
        "        count = sum(\n",
        "            1 for f in os.listdir(label_path)\n",
        "            if f.lower().endswith((\".jpg\", \".jpeg\", \".png\"))\n",
        "        )\n",
        "\n",
        "        # Add to rows\n",
        "        rows.append({\"category\": category, \"label\": label, \"count\": count})\n",
        "\n",
        "# נבנה DataFrame\n",
        "df = pd.DataFrame(rows, columns=[\"category\", \"label\", \"count\"])\n",
        "print(df)"
      ],
      "metadata": {
        "id": "hU3U4MN5SwgQ",
        "colab": {
          "base_uri": "https://localhost:8080/"
        },
        "outputId": "9470811e-22bc-4b20-d433-a9c3bb78e6d9"
      },
      "execution_count": null,
      "outputs": [
        {
          "output_type": "stream",
          "name": "stdout",
          "text": [
            "  category          label  count\n",
            "0    train      fractured   4606\n",
            "1    train  not fractured   4659\n",
            "2      val  not fractured    492\n",
            "3      val      fractured    337\n",
            "4     test  not fractured    268\n",
            "5     test      fractured    238\n"
          ]
        }
      ]
    },
    {
      "cell_type": "code",
      "source": [
        "# ---- Histogram: Distribution by category ----\n",
        "plt.figure(figsize=(6,4))\n",
        "df.groupby(\"category\")[\"count\"].sum().plot(kind=\"bar\", color=\"orange\")\n",
        "plt.title(\"Number of Images per category\")\n",
        "plt.xlabel(\"category\")\n",
        "plt.ylabel(\"Count\")\n",
        "plt.show()\n",
        "\n",
        "# ---- Grouped Bar Chart: Label per category ----\n",
        "plt.figure(figsize=(12,8))\n",
        "for category in df[\"category\"].unique():\n",
        "    subset = df[df[\"category\"] == category]\n",
        "    plt.bar(subset[\"label\"] + \"_\" + category, subset[\"count\"], label=category)\n",
        "\n",
        "plt.title(\"Image Counts per Label and category\")\n",
        "plt.xlabel(\"Label + category\")\n",
        "plt.ylabel(\"Count\")\n",
        "plt.legend()\n",
        "plt.show()"
      ],
      "metadata": {
        "colab": {
          "base_uri": "https://localhost:8080/",
          "height": 1000
        },
        "collapsed": true,
        "id": "ezbn08tOTTyP",
        "outputId": "a0c29060-3bd2-4693-d45b-4860e1943b12"
      },
      "execution_count": null,
      "outputs": [
        {
          "output_type": "display_data",
          "data": {
            "text/plain": [
              "<Figure size 600x400 with 1 Axes>"
            ],
            "image/png": "[encoded data removed]"
          },
          "metadata": {}
        },
        {
          "output_type": "display_data",
          "data": {
            "text/plain": [
              "<Figure size 1200x800 with 1 Axes>"
            ],
            "image/png": "[encoded data removed]"
          },
          "metadata": {}
        }
      ]
    },
    {
      "cell_type": "code",
      "source": [
        "# Convert 1‑channel → 3‑channel (ImageNet backbones expect RGB)\n",
        "def to_rgb(x, y):\n",
        "    x = tf.image.grayscale_to_rgb(x)  # [H,W,1] -> [H,W,3]\n",
        "    return x, y\n",
        "\n",
        "def build_ds(split, shuffle=False, disk_cache_path=None):\n",
        "    ds = tf.keras.utils.image_dataset_from_directory(\n",
        "        os.path.join(DATASET_DIR, split),\n",
        "        labels=\"inferred\", label_mode=\"binary\",\n",
        "        color_mode=\"grayscale\",\n",
        "        image_size=IMG_SIZE,\n",
        "        batch_size=BATCH_SIZE,\n",
        "        shuffle=shuffle\n",
        "    ).ignore_errors()\n",
        "\n",
        "    if disk_cache_path is not None:\n",
        "        ds = ds.cache(disk_cache_path)  # optional, to disk (e.g., \"/content/cache_train\")\n",
        "\n",
        "    if shuffle:\n",
        "        ds = ds.shuffle(buffer_size=BATCH_SIZE*16, seed=42, reshuffle_each_iteration=True)\n",
        "\n",
        "    ds = ds.map(to_rgb, num_parallel_calls=1)  # keep parallelism low to save RAM\n",
        "    ds = ds.prefetch(1)                        # tiny rolling buffer, not full cache\n",
        "    return ds\n",
        "\n",
        "train_ds = build_ds(\"train\", shuffle=True)                 # no cache\n",
        "val_ds   = build_ds(\"val\",   shuffle=False)                # no cache\n",
        "test_ds  = build_ds(\"test\",  shuffle=False)                # no cache\n",
        "\n",
        "\n",
        "\n",
        "\n",
        "# # --- Load datasets (expects subfolders fractured / not fractured under each split) ---\n",
        "# train_ds = tf.keras.utils.image_dataset_from_directory(\n",
        "#     os.path.join(DATASET_DIR, \"train\"),\n",
        "#     labels=\"inferred\",\n",
        "#     label_mode=\"binary\",\n",
        "#     color_mode=\"grayscale\",\n",
        "#     image_size=IMG_SIZE,\n",
        "#     batch_size=BATCH_SIZE,\n",
        "#     shuffle=True\n",
        "# ).apply(tf.data.experimental.ignore_errors())\n",
        "\n"
      ],
      "metadata": {
        "colab": {
          "base_uri": "https://localhost:8080/"
        },
        "id": "SRLHSSafOPvl",
        "outputId": "8fde0d6a-14df-415f-ecb7-d2ca231b4431"
      },
      "execution_count": null,
      "outputs": [
        {
          "output_type": "stream",
          "name": "stdout",
          "text": [
            "Found 9265 files belonging to 2 classes.\n",
            "Found 829 files belonging to 2 classes.\n",
            "Found 506 files belonging to 2 classes.\n"
          ]
        }
      ]
    },
    {
      "cell_type": "code",
      "source": [
        "# Modest augmentations (be conservative for medical images)\n",
        "# data_augmentation = keras.Sequential([\n",
        "#     layers.RandomRotation(0.02),\n",
        "#     layers.RandomZoom(0.05),\n",
        "#     layers.RandomTranslation(0.05, 0.05),\n",
        "#     # layers.RandomFlip(\"horizontal\"),  # ⚙️ TODO: enable only if a left/right flip doesn’t break semantics in your data\n",
        "# ])"
      ],
      "metadata": {
        "id": "FXooW_7IQvWT"
      },
      "execution_count": null,
      "outputs": []
    },
    {
      "cell_type": "code",
      "source": [
        "from tensorflow.keras.applications import densenet\n",
        "base = densenet.DenseNet121(\n",
        "    include_top=False,\n",
        "    weights=\"imagenet\",\n",
        "    input_shape=IMG_SIZE + (3,)\n",
        ")\n",
        "base.trainable = False  # phase 1: frozen\n",
        "\n",
        "inputs = keras.Input(shape=IMG_SIZE + (3,))\n",
        "x = densenet.preprocess_input(inputs)  # match ImageNet preprocessing\n",
        "x = base(x, training=False)\n",
        "x = layers.GlobalAveragePooling2D()(x)\n",
        "x = layers.Dropout(0.2)(x)  # ⚙️ TODO: tune dropout (0.2–0.5)\n",
        "outputs = layers.Dense(1, activation=\"sigmoid\")(x)  # binary\n",
        "\n",
        "model = keras.Model(inputs, outputs)"
      ],
      "metadata": {
        "colab": {
          "base_uri": "https://localhost:8080/"
        },
        "id": "ojkBP9J1TU4h",
        "outputId": "10e0a7e0-d578-4c7d-b428-7fd5a56bb429"
      },
      "execution_count": null,
      "outputs": [
        {
          "output_type": "stream",
          "name": "stdout",
          "text": [
            "Downloading data from https://storage.googleapis.com/tensorflow/keras-applications/densenet/densenet121_weights_tf_dim_ordering_tf_kernels_notop.h5\n",
            "\u001b[1m29084464/29084464\u001b[0m \u001b[32m━━━━━━━━━━━━━━━━━━━━\u001b[0m\u001b[37m\u001b[0m \u001b[1m3s\u001b[0m 0us/step\n"
          ]
        }
      ]
    },
    {
      "cell_type": "code",
      "source": [
        "\n",
        "model.compile(\n",
        "    optimizer=keras.optimizers.Adam(learning_rate=1e-3),\n",
        "    loss=\"binary_crossentropy\",\n",
        "    metrics=[\n",
        "        \"accuracy\",\n",
        "        keras.metrics.AUC(name=\"auc\"),\n",
        "        keras.metrics.Precision(name=\"precision\"),\n",
        "        keras.metrics.Recall(name=\"recall\"),\n",
        "    ],\n",
        ")\n",
        "\n",
        "cb = [\n",
        "    keras.callbacks.ModelCheckpoint(\"best_freeze.keras\", save_best_only=True, monitor=\"val_auc\", mode=\"max\"),\n",
        "    keras.callbacks.EarlyStopping(patience=4, restore_best_weights=True, monitor=\"val_auc\", mode=\"max\")\n",
        "]\n",
        "\n",
        "history1 = model.fit(\n",
        "    train_ds,\n",
        "    validation_data=val_ds,\n",
        "    epochs=3,   # ⚙️ TODO: tune\n",
        "    callbacks=cb\n",
        ")"
      ],
      "metadata": {
        "colab": {
          "base_uri": "https://localhost:8080/"
        },
        "id": "cvZVWDelTavD",
        "outputId": "079b70d4-dadb-407a-b7b2-82f7cb036049"
      },
      "execution_count": null,
      "outputs": [
        {
          "output_type": "stream",
          "name": "stdout",
          "text": [
            "Epoch 1/3\n",
            "   2308/Unknown \u001b[1m1835s\u001b[0m 700ms/step - accuracy: 0.6859 - auc: 0.7542 - loss: 0.5777 - precision: 0.6747 - recall: 0.7065"
          ]
        },
        {
          "output_type": "stream",
          "name": "stderr",
          "text": [
            "/usr/local/lib/python3.12/dist-packages/keras/src/trainers/epoch_iterator.py:160: UserWarning: Your input ran out of data; interrupting training. Make sure that your dataset or generator can generate at least `steps_per_epoch * epochs` batches. You may need to use the `.repeat()` function when building your dataset.\n",
            "  self._interrupted_warning()\n"
          ]
        },
        {
          "output_type": "stream",
          "name": "stdout",
          "text": [
            "\b\b\b\b\b\b\b\b\b\b\b\b\b\b\b\b\b\b\b\b\b\b\b\b\b\b\b\b\b\b\b\b\b\b\b\b\b\b\b\b\b\b\b\b\b\b\b\b\b\b\b\b\b\b\b\b\b\b\b\b\b\b\b\b\b\b\b\b\b\b\b\b\b\b\b\b\b\b\b\b\b\b\b\b\b\b\b\b\b\b\b\b\b\b\b\b\b\b\b\b\b\b\b\b\b\b\b\b\b\b\b\b\b\b\b\b\b\r\u001b[1m2308/2308\u001b[0m \u001b[32m━━━━━━━━━━━━━━━━━━━━\u001b[0m\u001b[37m\u001b[0m \u001b[1m2148s\u001b[0m 836ms/step - accuracy: 0.6859 - auc: 0.7543 - loss: 0.5776 - precision: 0.6747 - recall: 0.7066 - val_accuracy: 0.8647 - val_auc: 0.8998 - val_loss: 0.4012 - val_precision: 0.8645 - val_recall: 0.9118\n",
            "Epoch 2/3\n",
            "\u001b[1m2308/2308\u001b[0m \u001b[32m━━━━━━━━━━━━━━━━━━━━\u001b[0m\u001b[37m\u001b[0m \u001b[1m147s\u001b[0m 63ms/step - accuracy: 0.8395 - auc: 0.9088 - loss: 0.3948 - precision: 0.8245 - recall: 0.8602 - val_accuracy: 0.8782 - val_auc: 0.9225 - val_loss: 0.3536 - val_precision: 0.8855 - val_recall: 0.9097\n",
            "Epoch 3/3\n",
            "\u001b[1m2308/2308\u001b[0m \u001b[32m━━━━━━━━━━━━━━━━━━━━\u001b[0m\u001b[37m\u001b[0m \u001b[1m261s\u001b[0m 89ms/step - accuracy: 0.8586 - auc: 0.9311 - loss: 0.3473 - precision: 0.8462 - recall: 0.8772 - val_accuracy: 0.8918 - val_auc: 0.9362 - val_loss: 0.3278 - val_precision: 0.9128 - val_recall: 0.9013\n"
          ]
        }
      ]
    },
    {
      "cell_type": "code",
      "source": [
        "import os\n",
        "print(os.getcwd())   # shows current folder"
      ],
      "metadata": {
        "colab": {
          "base_uri": "https://localhost:8080/"
        },
        "id": "CzCVd8w7PdSl",
        "outputId": "f3995f12-4de6-4fd5-81fa-a11b174f4bb8"
      },
      "execution_count": null,
      "outputs": [
        {
          "output_type": "stream",
          "name": "stdout",
          "text": [
            "/content\n"
          ]
        }
      ]
    },
    {
      "cell_type": "code",
      "source": [
        "#saves the training weights\n",
        "import json\n",
        "save_path = \"/content/drive/MyDrive/Hens data science project/Bone_Fracture_Binary_Classification/\"\n",
        "\n",
        "with open(save_path + \"training_history.json\", \"w\") as f:\n",
        "    json.dump(history1.history, f)"
      ],
      "metadata": {
        "id": "XgeeWQanPIkd"
      },
      "execution_count": null,
      "outputs": []
    },
    {
      "cell_type": "code",
      "source": [
        "# uploade training weights\n",
        "save_path = \"/content/drive/MyDrive/Hens data science project/Bone_Fracture_Binary_Classification/\"\n",
        "\n",
        "with open(save_path + \"training_history.json\", \"r\") as f:\n",
        "    history = json.load(f)"
      ],
      "metadata": {
        "id": "5zjBM_rhUta0"
      },
      "execution_count": null,
      "outputs": []
    },
    {
      "cell_type": "code",
      "source": [
        "# הפעלת המודל על הסט מבחן\n",
        "y_pred_probs = model.predict(test_ds)\n",
        "\n"
      ],
      "metadata": {
        "colab": {
          "base_uri": "https://localhost:8080/"
        },
        "collapsed": true,
        "id": "3g7Aim4IKcRL",
        "outputId": "27bf9dc5-a736-4dfe-8bdc-3998ad50823a"
      },
      "execution_count": null,
      "outputs": [
        {
          "output_type": "stream",
          "name": "stdout",
          "text": [
            "\u001b[1m124/124\u001b[0m \u001b[32m━━━━━━━━━━━━━━━━━━━━\u001b[0m\u001b[37m\u001b[0m \u001b[1m8s\u001b[0m 60ms/step\n"
          ]
        },
        {
          "output_type": "stream",
          "name": "stderr",
          "text": [
            "/usr/local/lib/python3.12/dist-packages/keras/src/trainers/epoch_iterator.py:160: UserWarning: Your input ran out of data; interrupting training. Make sure that your dataset or generator can generate at least `steps_per_epoch * epochs` batches. You may need to use the `.repeat()` function when building your dataset.\n",
            "  self._interrupted_warning()\n"
          ]
        }
      ]
    },
    {
      "cell_type": "code",
      "source": [
        "print(y_pred_probs[len(y_pred_probs)-20:])\n",
        "y_pred = (y_pred_probs > 0.5).astype(int) # 0 or 1\n",
        "print(y_pred[len(y_pred)-20:])\n"
      ],
      "metadata": {
        "colab": {
          "base_uri": "https://localhost:8080/"
        },
        "id": "wm3GBJEThjCT",
        "outputId": "27547ff8-8077-4f35-f4e2-60151420a2ad"
      },
      "execution_count": null,
      "outputs": [
        {
          "output_type": "stream",
          "name": "stdout",
          "text": [
            "[[0.94705844]\n",
            " [0.8938902 ]\n",
            " [0.1338134 ]\n",
            " [0.64418954]\n",
            " [0.06521703]\n",
            " [0.32933643]\n",
            " [0.47969627]\n",
            " [0.6479848 ]\n",
            " [0.9437885 ]\n",
            " [0.8113199 ]\n",
            " [0.78545666]\n",
            " [0.7700633 ]\n",
            " [0.49342835]\n",
            " [0.56543654]\n",
            " [0.09787239]\n",
            " [0.8776052 ]\n",
            " [0.8776052 ]\n",
            " [0.09787239]\n",
            " [0.8594932 ]\n",
            " [0.01718371]]\n",
            "[[1]\n",
            " [1]\n",
            " [0]\n",
            " [1]\n",
            " [0]\n",
            " [0]\n",
            " [0]\n",
            " [1]\n",
            " [1]\n",
            " [1]\n",
            " [1]\n",
            " [1]\n",
            " [0]\n",
            " [1]\n",
            " [0]\n",
            " [1]\n",
            " [1]\n",
            " [0]\n",
            " [1]\n",
            " [0]]\n"
          ]
        }
      ]
    },
    {
      "cell_type": "code",
      "source": [
        "#y_pred = np.argmax(y_pred_probs, axis=1)\n",
        "\n",
        "# comparison to the real labels\n",
        "\n",
        "y_true = tf.concat([y for x, y in test_ds], axis=0).numpy()\n",
        "print(y_true[len(y_pred_probs)-20:])\n",
        "\n"
      ],
      "metadata": {
        "colab": {
          "base_uri": "https://localhost:8080/"
        },
        "collapsed": true,
        "id": "5OhRNAFtPhnP",
        "outputId": "f232fa93-053e-467f-c731-0e42e00bdca8"
      },
      "execution_count": null,
      "outputs": [
        {
          "output_type": "stream",
          "name": "stdout",
          "text": [
            "[[1.]\n",
            " [1.]\n",
            " [1.]\n",
            " [1.]\n",
            " [1.]\n",
            " [1.]\n",
            " [1.]\n",
            " [1.]\n",
            " [1.]\n",
            " [1.]\n",
            " [1.]\n",
            " [1.]\n",
            " [1.]\n",
            " [1.]\n",
            " [1.]\n",
            " [1.]\n",
            " [1.]\n",
            " [1.]\n",
            " [1.]\n",
            " [1.]]\n"
          ]
        }
      ]
    },
    {
      "cell_type": "code",
      "source": [
        "from sklearn.metrics import classification_report, confusion_matrix, ConfusionMatrixDisplay\n",
        "import matplotlib.pyplot as plt\n",
        "\n",
        "def evaluate_model(y_true, y_pred, labels=None):\n",
        "    # Print all key metrics in one line per class + averages\n",
        "    print(\"=== Classification Report ===\")\n",
        "    print(classification_report(y_true, y_pred, target_names=labels, zero_division=0))\n",
        "\n",
        "    # Show confusion matrix\n",
        "    cm = confusion_matrix(y_true, y_pred)\n",
        "    disp = ConfusionMatrixDisplay(confusion_matrix=cm, display_labels=labels if labels else None)\n",
        "    disp.plot(cmap=\"Blues\", values_format=\"d\")\n",
        "    plt.show()\n",
        "\n",
        "# הערכה\n",
        "evaluate_model(y_true, y_pred, labels=[\"Normal\", \"Fracture\"])\n"
      ],
      "metadata": {
        "id": "NNW5Jfd-N2Ps",
        "colab": {
          "base_uri": "https://localhost:8080/",
          "height": 619
        },
        "outputId": "0e48ac5f-2586-4509-c22e-0174f6f51acf"
      },
      "execution_count": null,
      "outputs": [
        {
          "output_type": "stream",
          "name": "stdout",
          "text": [
            "=== Classification Report ===\n",
            "              precision    recall  f1-score   support\n",
            "\n",
            "      Normal       0.86      0.93      0.89       238\n",
            "    Fracture       0.93      0.86      0.89       256\n",
            "\n",
            "    accuracy                           0.89       494\n",
            "   macro avg       0.89      0.89      0.89       494\n",
            "weighted avg       0.90      0.89      0.89       494\n",
            "\n"
          ]
        },
        {
          "output_type": "display_data",
          "data": {
            "text/plain": [
              "<Figure size 640x480 with 2 Axes>"
            ],
            "image/png": "[encoded data removed]"
          },
          "metadata": {}
        }
      ]
    }
  ]
}